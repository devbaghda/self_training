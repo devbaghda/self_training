{
 "cells": [
  {
   "cell_type": "code",
   "execution_count": null,
   "id": "0717fddc",
   "metadata": {},
   "outputs": [],
   "source": [
    "from random import randint"
   ]
  },
  {
   "cell_type": "code",
   "execution_count": null,
   "id": "32efc40c",
   "metadata": {},
   "outputs": [],
   "source": [
    "# this function checks if the entered value is a number or not and\n",
    "# if it in the chosen range or not\n",
    "def is_valid (n, y):\n",
    "    return n.isdigit() and int(n) in range(1, y + 1)  "
   ]
  },
  {
   "cell_type": "code",
   "execution_count": null,
   "id": "0a084917",
   "metadata": {},
   "outputs": [],
   "source": [
    "# this function asks the user to enter the right-side limit of the game's range \n",
    "# and returns it and a random number from the chosen range as well\n",
    "def get_random_digit():\n",
    "    r_limit = input('Choose the range of the game. Playing from 1 to ... ')\n",
    "    return randint(1, int(r_limit)), int(r_limit)"
   ]
  },
  {
   "cell_type": "code",
   "execution_count": null,
   "id": "fa238686",
   "metadata": {},
   "outputs": [],
   "source": [
    "x, y = get_random_digit()\n",
    "i = 0\n",
    "while True:\n",
    "    n = input(f'Enter  an integer from range: [1, {y}] ')\n",
    "    i += 1\n",
    "    # checking the valifdity of the entered number\n",
    "    if not is_valid(n, y):\n",
    "        print(f'Please make sure to enter an integer from range: [1, {y}] ')\n",
    "    # comparing the entered number with the guessing one and \n",
    "    elif int(n) == x:\n",
    "        print(f\"Congrats! You've guessed the number in {i} attempts!\")\n",
    "        # if equal, asking if the user wants to play again\n",
    "        if input('Should we once more? (Y / N) ') in ['Y', 'y']:\n",
    "            x, y = get_random_digit()\n",
    "            i = 0\n",
    "        else:\n",
    "            break        \n",
    "    elif int(n) < x:\n",
    "        print('Your number is smaller than the guessing one. Try again')\n",
    "    else:\n",
    "        print('Your number is larger than the guessing one. Try again')\n",
    "        \n",
    "print('Thanks for playing \"Guess_the_number\" game. See you ...') "
   ]
  },
  {
   "cell_type": "code",
   "execution_count": null,
   "id": "f3d2ff83",
   "metadata": {},
   "outputs": [],
   "source": []
  }
 ],
 "metadata": {
  "kernelspec": {
   "display_name": "Python 3 (ipykernel)",
   "language": "python",
   "name": "python3"
  },
  "language_info": {
   "codemirror_mode": {
    "name": "ipython",
    "version": 3
   },
   "file_extension": ".py",
   "mimetype": "text/x-python",
   "name": "python",
   "nbconvert_exporter": "python",
   "pygments_lexer": "ipython3",
   "version": "3.8.13"
  },
  "toc": {
   "base_numbering": 1,
   "nav_menu": {},
   "number_sections": true,
   "sideBar": true,
   "skip_h1_title": false,
   "title_cell": "Table of Contents",
   "title_sidebar": "Contents",
   "toc_cell": false,
   "toc_position": {},
   "toc_section_display": true,
   "toc_window_display": true
  },
  "varInspector": {
   "cols": {
    "lenName": 16,
    "lenType": 16,
    "lenVar": 40
   },
   "kernels_config": {
    "python": {
     "delete_cmd_postfix": "",
     "delete_cmd_prefix": "del ",
     "library": "var_list.py",
     "varRefreshCmd": "print(var_dic_list())"
    },
    "r": {
     "delete_cmd_postfix": ") ",
     "delete_cmd_prefix": "rm(",
     "library": "var_list.r",
     "varRefreshCmd": "cat(var_dic_list()) "
    }
   },
   "types_to_exclude": [
    "module",
    "function",
    "builtin_function_or_method",
    "instance",
    "_Feature"
   ],
   "window_display": false
  }
 },
 "nbformat": 4,
 "nbformat_minor": 5
}
