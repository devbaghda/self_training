{
 "cells": [
  {
   "cell_type": "code",
   "execution_count": 20,
   "id": "1d357eeb",
   "metadata": {},
   "outputs": [],
   "source": [
    "import random"
   ]
  },
  {
   "cell_type": "code",
   "execution_count": 21,
   "id": "262875ac",
   "metadata": {},
   "outputs": [],
   "source": [
    "digits = '0123456789'\n",
    "lowercase_letters = 'abcdefghijklmnopqrstuvwxyz'\n",
    "uppercase_letters = 'ABCDEFGHIJKLMNOPQRSTUVWXYZ'\n",
    "punctuation = '!#$%&*+-=?@^_.'\n",
    "sp_symb = 'il1Lo0O'\n",
    "\n",
    "chars = ''"
   ]
  },
  {
   "cell_type": "code",
   "execution_count": 27,
   "id": "864da6ce",
   "metadata": {},
   "outputs": [
    {
     "name": "stdout",
     "output_type": "stream",
     "text": [
      "How many passwords do you need?: 1\n",
      "What should be the length of each passowrd? : 8\n",
      "Should 0123456789 be included? (Y / N): y\n",
      "Should ABCDEFGHIJKLMNOPQRSTUVWXYZ be included? (Y / N): y\n",
      "Should abcdefghijklmnopqrstuvwxyz be included? (Y / N): y\n",
      "Should !#$%&*+-=?@^_  be included? (Y / N): y\n",
      "Should il1Lo0O be included? (Y / N): y\n"
     ]
    }
   ],
   "source": [
    "quantity = int(input('How many passwords do you need?: '))\n",
    "length = int(input('What should be the length of each passowrd? : '))\n",
    "incl_dig = input('Should 0123456789 be included? (Y / N): ')\n",
    "incl_up = input('Should ABCDEFGHIJKLMNOPQRSTUVWXYZ be included? (Y / N): ')\n",
    "incl_low = input('Should abcdefghijklmnopqrstuvwxyz be included? (Y / N): ') \n",
    "incl_symb = input('Should !#$%&*+-=?@^_  be included? (Y / N): ')\n",
    "incl_symb_2 = input('Should il1Lo0O be included? (Y / N): ')"
   ]
  },
  {
   "cell_type": "code",
   "execution_count": 33,
   "id": "774904a9",
   "metadata": {},
   "outputs": [],
   "source": [
    "chars = [x for x in digits if incl_dig.lower() == 'y'] + \\\n",
    "[x for x in digits if incl_dig.lower() == 'y'] + \\\n",
    "[x for x in lowercase_letters if incl_up.lower() == 'y'] + \\\n",
    "[x for x in uppercase_letters if incl_low.lower() == 'y'] + \\\n",
    "[x for x in punctuation if incl_symb.lower() == 'y'] + \\\n",
    "[x for x in sp_symb if incl_symb_2.lower() == 'y']\n",
    "\n",
    "chars = ''.join(chars)"
   ]
  },
  {
   "cell_type": "code",
   "execution_count": 34,
   "id": "0d2bdb8d",
   "metadata": {},
   "outputs": [],
   "source": [
    "def generate_password(length, chars):\n",
    "    return random.sample(chars, length)"
   ]
  },
  {
   "cell_type": "code",
   "execution_count": 35,
   "id": "a36e1de1",
   "metadata": {},
   "outputs": [
    {
     "name": "stdout",
     "output_type": "stream",
     "text": [
      "U4kp3+c6\n"
     ]
    }
   ],
   "source": [
    "for _ in range(quantity):\n",
    "    print(*generate_password(length, chars), sep ='')"
   ]
  },
  {
   "cell_type": "code",
   "execution_count": 32,
   "id": "b85ababe",
   "metadata": {},
   "outputs": [
    {
     "data": {
      "text/plain": [
       "''"
      ]
     },
     "execution_count": 32,
     "metadata": {},
     "output_type": "execute_result"
    }
   ],
   "source": [
    "chars"
   ]
  },
  {
   "cell_type": "code",
   "execution_count": null,
   "id": "8dbdfaa5",
   "metadata": {},
   "outputs": [],
   "source": []
  }
 ],
 "metadata": {
  "kernelspec": {
   "display_name": "Python 3 (ipykernel)",
   "language": "python",
   "name": "python3"
  },
  "language_info": {
   "codemirror_mode": {
    "name": "ipython",
    "version": 3
   },
   "file_extension": ".py",
   "mimetype": "text/x-python",
   "name": "python",
   "nbconvert_exporter": "python",
   "pygments_lexer": "ipython3",
   "version": "3.8.13"
  },
  "toc": {
   "base_numbering": 1,
   "nav_menu": {},
   "number_sections": true,
   "sideBar": true,
   "skip_h1_title": false,
   "title_cell": "Table of Contents",
   "title_sidebar": "Contents",
   "toc_cell": false,
   "toc_position": {},
   "toc_section_display": true,
   "toc_window_display": true
  },
  "varInspector": {
   "cols": {
    "lenName": 16,
    "lenType": 16,
    "lenVar": 40
   },
   "kernels_config": {
    "python": {
     "delete_cmd_postfix": "",
     "delete_cmd_prefix": "del ",
     "library": "var_list.py",
     "varRefreshCmd": "print(var_dic_list())"
    },
    "r": {
     "delete_cmd_postfix": ") ",
     "delete_cmd_prefix": "rm(",
     "library": "var_list.r",
     "varRefreshCmd": "cat(var_dic_list()) "
    }
   },
   "types_to_exclude": [
    "module",
    "function",
    "builtin_function_or_method",
    "instance",
    "_Feature"
   ],
   "window_display": false
  }
 },
 "nbformat": 4,
 "nbformat_minor": 5
}
