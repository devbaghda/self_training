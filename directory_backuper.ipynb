{
 "cells": [
  {
   "cell_type": "markdown",
   "id": "1505ffc7",
   "metadata": {},
   "source": [
    "This code archives the selected folder in .zip format giving it a name based on the time of creation and puts it in another folder named after the date of creation. Kind of a backup program created while learning \"A byte of Python\" by Swaroop C.H.    "
   ]
  },
  {
   "cell_type": "code",
   "execution_count": 1,
   "id": "abea689f",
   "metadata": {},
   "outputs": [],
   "source": [
    "import os \n",
    "import time\n",
    "import shutil"
   ]
  },
  {
   "cell_type": "code",
   "execution_count": 2,
   "id": "cea41040",
   "metadata": {},
   "outputs": [],
   "source": [
    "today = time.strftime('%Y%m%d')"
   ]
  },
  {
   "cell_type": "code",
   "execution_count": 3,
   "id": "018aa84b",
   "metadata": {},
   "outputs": [],
   "source": [
    "now = time.strftime('%H%M%S')"
   ]
  },
  {
   "cell_type": "code",
   "execution_count": 4,
   "id": "c9fa1438",
   "metadata": {},
   "outputs": [],
   "source": [
    "# source directory path \n",
    "SOURCE_DIR = r'C:\\Users\\devba\\Documents\\DataScience\\aBoP\\TestingFolder\\source_folder'"
   ]
  },
  {
   "cell_type": "code",
   "execution_count": 5,
   "id": "96f66985",
   "metadata": {},
   "outputs": [],
   "source": [
    "# destination directory path\n",
    "DEST_DIR = r'C:\\Users\\devba\\Documents\\DataScience\\aBoP\\TestingFolder\\dest_folder\\{}'.format(today)"
   ]
  },
  {
   "cell_type": "code",
   "execution_count": 6,
   "id": "749b4084",
   "metadata": {},
   "outputs": [],
   "source": [
    "# checking if the destination directory exists, if not creating it. \n",
    "if not os.path.exists(DEST_DIR):\n",
    "    os.mkdir(DEST_DIR)\n",
    "    print(f'{today} folder has been created successfully')"
   ]
  },
  {
   "cell_type": "code",
   "execution_count": 7,
   "id": "57a80c55",
   "metadata": {
    "scrolled": true
   },
   "outputs": [
    {
     "name": "stdout",
     "output_type": "stream",
     "text": [
      "Input a comment --> final\n"
     ]
    }
   ],
   "source": [
    "#asking the user to input any comment if necessary\n",
    "#version of backup for instance\n",
    "\n",
    "comment = input('Input a comment --> ')\n",
    "\n",
    "#checking if any comment entered and archiving the source folder into a *.zip\n",
    "#archive named after the time of creation including the users's comment if any\n",
    "\n",
    "if len(comment) == 0: \n",
    "    target = shutil.make_archive(\n",
    "        os.path.join(\n",
    "            DEST_DIR, now),'zip', root_dir=SOURCE_DIR)\n",
    "else:\n",
    "    target = shutil.make_archive(\n",
    "        os.path.join(\n",
    "            DEST_DIR, now + '_' + comment.replace(' ', '_')),'zip', root_dir=SOURCE_DIR)"
   ]
  },
  {
   "cell_type": "code",
   "execution_count": 8,
   "id": "f8835b74",
   "metadata": {},
   "outputs": [
    {
     "name": "stdout",
     "output_type": "stream",
     "text": [
      "Backup successfully created in C:\\Users\\devba\\Documents\\DataScience\\aBoP\\TestingFolder\\dest_folder\\20220629\n"
     ]
    }
   ],
   "source": [
    "#giving a report\n",
    "\n",
    "if target:\n",
    "    print('Backup successfully created in', DEST_DIR)\n",
    "else:\n",
    "    print('Backup creation FAILED')"
   ]
  }
 ],
 "metadata": {
  "kernelspec": {
   "display_name": "Python 3",
   "language": "python",
   "name": "python3"
  },
  "language_info": {
   "codemirror_mode": {
    "name": "ipython",
    "version": 3
   },
   "file_extension": ".py",
   "mimetype": "text/x-python",
   "name": "python",
   "nbconvert_exporter": "python",
   "pygments_lexer": "ipython3",
   "version": "3.8.8"
  },
  "toc": {
   "base_numbering": 1,
   "nav_menu": {},
   "number_sections": true,
   "sideBar": true,
   "skip_h1_title": false,
   "title_cell": "Table of Contents",
   "title_sidebar": "Contents",
   "toc_cell": false,
   "toc_position": {},
   "toc_section_display": true,
   "toc_window_display": true
  },
  "varInspector": {
   "cols": {
    "lenName": 16,
    "lenType": 16,
    "lenVar": 40
   },
   "kernels_config": {
    "python": {
     "delete_cmd_postfix": "",
     "delete_cmd_prefix": "del ",
     "library": "var_list.py",
     "varRefreshCmd": "print(var_dic_list())"
    },
    "r": {
     "delete_cmd_postfix": ") ",
     "delete_cmd_prefix": "rm(",
     "library": "var_list.r",
     "varRefreshCmd": "cat(var_dic_list()) "
    }
   },
   "types_to_exclude": [
    "module",
    "function",
    "builtin_function_or_method",
    "instance",
    "_Feature"
   ],
   "window_display": false
  }
 },
 "nbformat": 4,
 "nbformat_minor": 5
}
