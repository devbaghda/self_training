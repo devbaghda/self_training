{
 "cells": [
  {
   "cell_type": "markdown",
   "id": "e8da796f",
   "metadata": {},
   "source": [
    "Checks if the word input by user is palindrome or not"
   ]
  },
  {
   "cell_type": "code",
   "execution_count": null,
   "id": "9ea502fd",
   "metadata": {},
   "outputs": [],
   "source": [
    "import re"
   ]
  },
  {
   "cell_type": "code",
   "execution_count": null,
   "id": "25462062",
   "metadata": {},
   "outputs": [],
   "source": [
    "# removing all the non letter symbols and bringing all to lowercase \n",
    "def cleaner(text):\n",
    "    return re.sub('[_\\dh\\W*]','',text).lower()   "
   ]
  },
  {
   "cell_type": "code",
   "execution_count": null,
   "id": "f2a7560c",
   "metadata": {},
   "outputs": [],
   "source": [
    "#  building a reversed version of the input textabs\n",
    "def reverser(text):\n",
    "    return text[::-1]"
   ]
  },
  {
   "cell_type": "code",
   "execution_count": null,
   "id": "83338f30",
   "metadata": {},
   "outputs": [],
   "source": [
    "def polyndrome():\n",
    "    text = input(\"Enter your text: -->\")\n",
    "    text = cleaner(text)\n",
    "    #checking if the reversed text is the same as the original input text and \n",
    "    #report the results\n",
    "    reversed_text = reverser(text)\n",
    "    if text == reversed_text: \n",
    "        print(f'Yepp, that\\'s a palindrome: {text} = {reversed_text}'.rjust(60))\n",
    "    else: \n",
    "        print('Nope, this word is not a palnidrome'.rjust(60))"
   ]
  },
  {
   "cell_type": "code",
   "execution_count": null,
   "id": "4296b5c3",
   "metadata": {},
   "outputs": [],
   "source": [
    "#running a cycle of interaction with user\n",
    "while True:\n",
    "    polyndrome()\n",
    "#asking the user if he wants to continue with another word   \n",
    "    if input('Shall we? (Y / N): ').lower() == 'y':\n",
    "        continue\n",
    "    else:\n",
    "        break"
   ]
  }
 ],
 "metadata": {
  "kernelspec": {
   "display_name": "Python 3",
   "language": "python",
   "name": "python3"
  },
  "language_info": {
   "codemirror_mode": {
    "name": "ipython",
    "version": 3
   },
   "file_extension": ".py",
   "mimetype": "text/x-python",
   "name": "python",
   "nbconvert_exporter": "python",
   "pygments_lexer": "ipython3",
   "version": "3.8.8"
  },
  "toc": {
   "base_numbering": 1,
   "nav_menu": {},
   "number_sections": true,
   "sideBar": true,
   "skip_h1_title": false,
   "title_cell": "Table of Contents",
   "title_sidebar": "Contents",
   "toc_cell": false,
   "toc_position": {},
   "toc_section_display": true,
   "toc_window_display": true
  },
  "varInspector": {
   "cols": {
    "lenName": 16,
    "lenType": 16,
    "lenVar": 40
   },
   "kernels_config": {
    "python": {
     "delete_cmd_postfix": "",
     "delete_cmd_prefix": "del ",
     "library": "var_list.py",
     "varRefreshCmd": "print(var_dic_list())"
    },
    "r": {
     "delete_cmd_postfix": ") ",
     "delete_cmd_prefix": "rm(",
     "library": "var_list.r",
     "varRefreshCmd": "cat(var_dic_list()) "
    }
   },
   "types_to_exclude": [
    "module",
    "function",
    "builtin_function_or_method",
    "instance",
    "_Feature"
   ],
   "window_display": false
  }
 },
 "nbformat": 4,
 "nbformat_minor": 5
}
