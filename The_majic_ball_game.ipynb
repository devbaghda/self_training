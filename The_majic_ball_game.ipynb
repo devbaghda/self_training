{
 "cells": [
  {
   "cell_type": "code",
   "execution_count": 2,
   "id": "d1137f91",
   "metadata": {},
   "outputs": [],
   "source": [
    "import random"
   ]
  },
  {
   "cell_type": "code",
   "execution_count": 3,
   "id": "309555fc",
   "metadata": {},
   "outputs": [],
   "source": [
    "answers = ['Indisputable', 'Predetermined', 'No doubt', 'Definitely yes', \n",
    "           'You can be sure of it', 'It seems to me yes', 'Most likely', \n",
    "           'Good prospects', 'Signs say yes', 'Yes',\n",
    "           \"It's not clear yet, try again\", 'Ask later', \n",
    "           \"It's better not to tell\", \"It's impossible to predict now\", \n",
    "           'Concentrate and ask again', \"Don't even think of doing that\",\n",
    "           'My answer is no', 'According to my data, no', \n",
    "           'Prospects are not very good', 'Very doubtful']"
   ]
  },
  {
   "cell_type": "code",
   "execution_count": 4,
   "id": "1a0d98f8",
   "metadata": {},
   "outputs": [],
   "source": [
    "def game(name):\n",
    "    input('So? What are you thinking about?')\n",
    "    print()\n",
    "    print(random.choice(answers))\n",
    "    print()\n",
    "    if input('Anything else? (Y / N)') in ['Y', 'y']:\n",
    "        game(name)\n",
    "    else:\n",
    "        print('OK! Come back with new questions, if any.')"
   ]
  }]
}
