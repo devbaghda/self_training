{
 "cells": [
  {
   "cell_type": "code",
   "execution_count": null,
   "id": "2dafd589",
   "metadata": {},
   "outputs": [],
   "source": [
    "import random"
   ]
  },
  {
   "cell_type": "code",
   "execution_count": null,
   "id": "3f377409",
   "metadata": {},
   "outputs": [],
   "source": [
    "answers = ['Indisputable', 'Predetermined', 'No doubt', 'Definitely yes', \n",
    "           'You can be sure of it', 'It seems to me yes', 'Most likely', \n",
    "           'Good prospects', 'Signs say yes', 'Yes',\n",
    "           \"It's not clear yet, try again\", 'Ask later', \n",
    "           \"It's better not to tell\", \"It's impossible to predict now\", \n",
    "           'Concentrate and ask again', \"Don't even think of doing that\",\n",
    "           'My answer is no', 'According to my data, no', \n",
    "           'Prospects are not very good', 'Very doubtful']"
   ]
  },
  {
   "cell_type": "code",
   "execution_count": null,
   "id": "cad2e3d9",
   "metadata": {},
   "outputs": [],
   "source": [
    "def game(name):\n",
    "    input('So? What are you thinking about?')\n",
    "    print()\n",
    "    print(random.choice(answers))\n",
    "    print()\n",
    "    if input('Anything else? (Y / N)') in ['Y', 'y']:\n",
    "        game(name)\n",
    "    else:\n",
    "        print('OK! Come back with new questions, if any.')"
   ]
  },
  {
   "cell_type": "code",
   "execution_count": null,
   "id": "7f4088bb",
   "metadata": {},
   "outputs": [],
   "source": [
    "print('Am a magical ball! I know all the answers to all of your questions.')\n",
    "print()\n",
    "name = input('What is your name, human? ')\n",
    "print()\n",
    "print(f'Greetings to you, {name} ')\n",
    "game(name)"
   ]
  }
 ],
 "metadata": {
  "kernelspec": {
   "display_name": "Python 3 (ipykernel)",
   "language": "python",
   "name": "python3"
  },
  "language_info": {
   "codemirror_mode": {
    "name": "ipython",
    "version": 3
   },
   "file_extension": ".py",
   "mimetype": "text/x-python",
   "name": "python",
   "nbconvert_exporter": "python",
   "pygments_lexer": "ipython3",
   "version": "3.8.13"
  },
  "toc": {
   "base_numbering": 1,
   "nav_menu": {},
   "number_sections": true,
   "sideBar": true,
   "skip_h1_title": false,
   "title_cell": "Table of Contents",
   "title_sidebar": "Contents",
   "toc_cell": false,
   "toc_position": {},
   "toc_section_display": true,
   "toc_window_display": true
  },
  "varInspector": {
   "cols": {
    "lenName": 16,
    "lenType": 16,
    "lenVar": 40
   },
   "kernels_config": {
    "python": {
     "delete_cmd_postfix": "",
     "delete_cmd_prefix": "del ",
     "library": "var_list.py",
     "varRefreshCmd": "print(var_dic_list())"
    },
    "r": {
     "delete_cmd_postfix": ") ",
     "delete_cmd_prefix": "rm(",
     "library": "var_list.r",
     "varRefreshCmd": "cat(var_dic_list()) "
    }
   },
   "types_to_exclude": [
    "module",
    "function",
    "builtin_function_or_method",
    "instance",
    "_Feature"
   ],
   "window_display": false
  }
 },
 "nbformat": 4,
 "nbformat_minor": 5
}
